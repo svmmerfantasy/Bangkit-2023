{
  "cells": [
    {
      "cell_type": "markdown",
      "metadata": {
        "id": "dXAn2DYhhSBp"
      },
      "source": [
        "#Import Library"
      ]
    },
    {
      "cell_type": "code",
      "execution_count": null,
      "metadata": {
        "id": "Nr-RRwXugVLS"
      },
      "outputs": [],
      "source": [
        "import numpy as np\n",
        "import pandas as pd\n",
        "import tensorflow as tf\n",
        "import sklearn\n",
        "from tensorflow import keras"
      ]
    },
    {
      "cell_type": "markdown",
      "metadata": {
        "id": "7-0PPxmzhZNy"
      },
      "source": [
        "#Preparing Dataset\n"
      ]
    },
    {
      "cell_type": "markdown",
      "metadata": {
        "id": "L8LEhwC2wCKa"
      },
      "source": [
        "#CLEANING DATASET"
      ]
    },
    {
      "cell_type": "code",
      "execution_count": null,
      "metadata": {
        "id": "gB_TEgx5hYSL"
      },
      "outputs": [],
      "source": [
        "mentee = pd.read_csv(\"Mentees.csv\")\n",
        "mentor = pd.read_csv(\"Mentors.csv\")\n",
        "rating = pd.read_csv(\"Ratings.csv\")"
      ]
    },
    {
      "cell_type": "code",
      "execution_count": null,
      "metadata": {
        "id": "wbOp4oJMjcY5"
      },
      "outputs": [],
      "source": [
        "cols_mente = {\"ID MENTEE\" : \"MenteeID\", \"SUBJECT\" : \"Subject\" ,\"NAME\" : \"MenteeName\", \"LOCATION\" : \"Location\"}\n",
        "mentee.rename(columns=cols_mente, inplace=True)\n",
        "mentee_df = mentee.loc[0:1499, 'MenteeID' : 'LONGITUDE']"
      ]
    },
    {
      "cell_type": "code",
      "execution_count": null,
      "metadata": {
        "id": "JupRO0ipqrtI"
      },
      "outputs": [],
      "source": [
        "cols_mentor = {\"ID MENTOR\" :\"TutorID\", \"NAME\" : \"TutorName\", \"LOCATION\" : \"Location\", \"MATKUL\" : \"Subjects\"}\n",
        "mentor.rename(columns=cols_mentor, inplace=True)\n",
        "temporary = mentor.drop(columns=['SUBJECT'])\n",
        "mentor_df = temporary.loc[0:499, 'TutorID' : 'LONGITUDE']"
      ]
    },
    {
      "cell_type": "code",
      "execution_count": null,
      "metadata": {
        "id": "R80vccSsCHSV"
      },
      "outputs": [],
      "source": [
        "cols_rating = {\"ID MENTEE\" : \"MenteeID\", \"ID MENTOR\" : \"TutorID\", \"RATING\" : \"Rating\"}\n",
        "rating.rename(columns=cols_rating, inplace=True)\n",
        "rating_df = rating.loc[0:12625, 'MenteeID' : 'Rating']\n",
        "rating_df['Rating'] = rating_df['Rating'].astype(np.int64)"
      ]
    },
    {
      "cell_type": "code",
      "source": [
        "popular_tutor_rating_df = rating_df.merge(mentor_df, on=\"TutorID\")\n",
        "popular_tutor_rating_df"
      ],
      "metadata": {
        "id": "Ysi31ttko0IA",
        "colab": {
          "base_uri": "https://localhost:8080/",
          "height": 411
        },
        "outputId": "53484374-fe06-4c7f-e77a-b1372390d7f2"
      },
      "execution_count": null,
      "outputs": [
        {
          "output_type": "execute_result",
          "data": {
            "text/plain": [
              "      MenteeID TutorID  Rating  TutorName    Subjects    Location SUBDISTRICT  \\\n",
              "0       B36652  A16227       3  Andrianto     Ekonomi     Jakarta  JOHAR BARU   \n",
              "1       B63077  A16227       5  Andrianto     Ekonomi     Jakarta  JOHAR BARU   \n",
              "2       B14364  A16227       5  Andrianto     Ekonomi     Jakarta  JOHAR BARU   \n",
              "3       B61521  A16227       4  Andrianto     Ekonomi     Jakarta  JOHAR BARU   \n",
              "4       B62409  A16227       5  Andrianto     Ekonomi     Jakarta  JOHAR BARU   \n",
              "...        ...     ...     ...        ...         ...         ...         ...   \n",
              "12621   B29822  A17248       3    Junaeri  Matematika  Yogyakarta  PAKUALAMAN   \n",
              "12622   B64162  A17248       3    Junaeri  Matematika  Yogyakarta  PAKUALAMAN   \n",
              "12623   B32844  A17248       4    Junaeri  Matematika  Yogyakarta  PAKUALAMAN   \n",
              "12624   B97893  A17248       5    Junaeri  Matematika  Yogyakarta  PAKUALAMAN   \n",
              "12625   B33877  A17248       5    Junaeri  Matematika  Yogyakarta  PAKUALAMAN   \n",
              "\n",
              "       LATITUDE   LONGITUDE  \n",
              "0     -6.183050  106.854320  \n",
              "1     -6.183050  106.854320  \n",
              "2     -6.183050  106.854320  \n",
              "3     -6.183050  106.854320  \n",
              "4     -6.183050  106.854320  \n",
              "...         ...         ...  \n",
              "12621 -7.800546  110.375171  \n",
              "12622 -7.800546  110.375171  \n",
              "12623 -7.800546  110.375171  \n",
              "12624 -7.800546  110.375171  \n",
              "12625 -7.800546  110.375171  \n",
              "\n",
              "[12626 rows x 9 columns]"
            ],
            "text/html": [
              "\n",
              "  <div id=\"df-a49b1572-e7fb-4175-8be3-bdbb5d6fa6d2\">\n",
              "    <div class=\"colab-df-container\">\n",
              "      <div>\n",
              "<style scoped>\n",
              "    .dataframe tbody tr th:only-of-type {\n",
              "        vertical-align: middle;\n",
              "    }\n",
              "\n",
              "    .dataframe tbody tr th {\n",
              "        vertical-align: top;\n",
              "    }\n",
              "\n",
              "    .dataframe thead th {\n",
              "        text-align: right;\n",
              "    }\n",
              "</style>\n",
              "<table border=\"1\" class=\"dataframe\">\n",
              "  <thead>\n",
              "    <tr style=\"text-align: right;\">\n",
              "      <th></th>\n",
              "      <th>MenteeID</th>\n",
              "      <th>TutorID</th>\n",
              "      <th>Rating</th>\n",
              "      <th>TutorName</th>\n",
              "      <th>Subjects</th>\n",
              "      <th>Location</th>\n",
              "      <th>SUBDISTRICT</th>\n",
              "      <th>LATITUDE</th>\n",
              "      <th>LONGITUDE</th>\n",
              "    </tr>\n",
              "  </thead>\n",
              "  <tbody>\n",
              "    <tr>\n",
              "      <th>0</th>\n",
              "      <td>B36652</td>\n",
              "      <td>A16227</td>\n",
              "      <td>3</td>\n",
              "      <td>Andrianto</td>\n",
              "      <td>Ekonomi</td>\n",
              "      <td>Jakarta</td>\n",
              "      <td>JOHAR BARU</td>\n",
              "      <td>-6.183050</td>\n",
              "      <td>106.854320</td>\n",
              "    </tr>\n",
              "    <tr>\n",
              "      <th>1</th>\n",
              "      <td>B63077</td>\n",
              "      <td>A16227</td>\n",
              "      <td>5</td>\n",
              "      <td>Andrianto</td>\n",
              "      <td>Ekonomi</td>\n",
              "      <td>Jakarta</td>\n",
              "      <td>JOHAR BARU</td>\n",
              "      <td>-6.183050</td>\n",
              "      <td>106.854320</td>\n",
              "    </tr>\n",
              "    <tr>\n",
              "      <th>2</th>\n",
              "      <td>B14364</td>\n",
              "      <td>A16227</td>\n",
              "      <td>5</td>\n",
              "      <td>Andrianto</td>\n",
              "      <td>Ekonomi</td>\n",
              "      <td>Jakarta</td>\n",
              "      <td>JOHAR BARU</td>\n",
              "      <td>-6.183050</td>\n",
              "      <td>106.854320</td>\n",
              "    </tr>\n",
              "    <tr>\n",
              "      <th>3</th>\n",
              "      <td>B61521</td>\n",
              "      <td>A16227</td>\n",
              "      <td>4</td>\n",
              "      <td>Andrianto</td>\n",
              "      <td>Ekonomi</td>\n",
              "      <td>Jakarta</td>\n",
              "      <td>JOHAR BARU</td>\n",
              "      <td>-6.183050</td>\n",
              "      <td>106.854320</td>\n",
              "    </tr>\n",
              "    <tr>\n",
              "      <th>4</th>\n",
              "      <td>B62409</td>\n",
              "      <td>A16227</td>\n",
              "      <td>5</td>\n",
              "      <td>Andrianto</td>\n",
              "      <td>Ekonomi</td>\n",
              "      <td>Jakarta</td>\n",
              "      <td>JOHAR BARU</td>\n",
              "      <td>-6.183050</td>\n",
              "      <td>106.854320</td>\n",
              "    </tr>\n",
              "    <tr>\n",
              "      <th>...</th>\n",
              "      <td>...</td>\n",
              "      <td>...</td>\n",
              "      <td>...</td>\n",
              "      <td>...</td>\n",
              "      <td>...</td>\n",
              "      <td>...</td>\n",
              "      <td>...</td>\n",
              "      <td>...</td>\n",
              "      <td>...</td>\n",
              "    </tr>\n",
              "    <tr>\n",
              "      <th>12621</th>\n",
              "      <td>B29822</td>\n",
              "      <td>A17248</td>\n",
              "      <td>3</td>\n",
              "      <td>Junaeri</td>\n",
              "      <td>Matematika</td>\n",
              "      <td>Yogyakarta</td>\n",
              "      <td>PAKUALAMAN</td>\n",
              "      <td>-7.800546</td>\n",
              "      <td>110.375171</td>\n",
              "    </tr>\n",
              "    <tr>\n",
              "      <th>12622</th>\n",
              "      <td>B64162</td>\n",
              "      <td>A17248</td>\n",
              "      <td>3</td>\n",
              "      <td>Junaeri</td>\n",
              "      <td>Matematika</td>\n",
              "      <td>Yogyakarta</td>\n",
              "      <td>PAKUALAMAN</td>\n",
              "      <td>-7.800546</td>\n",
              "      <td>110.375171</td>\n",
              "    </tr>\n",
              "    <tr>\n",
              "      <th>12623</th>\n",
              "      <td>B32844</td>\n",
              "      <td>A17248</td>\n",
              "      <td>4</td>\n",
              "      <td>Junaeri</td>\n",
              "      <td>Matematika</td>\n",
              "      <td>Yogyakarta</td>\n",
              "      <td>PAKUALAMAN</td>\n",
              "      <td>-7.800546</td>\n",
              "      <td>110.375171</td>\n",
              "    </tr>\n",
              "    <tr>\n",
              "      <th>12624</th>\n",
              "      <td>B97893</td>\n",
              "      <td>A17248</td>\n",
              "      <td>5</td>\n",
              "      <td>Junaeri</td>\n",
              "      <td>Matematika</td>\n",
              "      <td>Yogyakarta</td>\n",
              "      <td>PAKUALAMAN</td>\n",
              "      <td>-7.800546</td>\n",
              "      <td>110.375171</td>\n",
              "    </tr>\n",
              "    <tr>\n",
              "      <th>12625</th>\n",
              "      <td>B33877</td>\n",
              "      <td>A17248</td>\n",
              "      <td>5</td>\n",
              "      <td>Junaeri</td>\n",
              "      <td>Matematika</td>\n",
              "      <td>Yogyakarta</td>\n",
              "      <td>PAKUALAMAN</td>\n",
              "      <td>-7.800546</td>\n",
              "      <td>110.375171</td>\n",
              "    </tr>\n",
              "  </tbody>\n",
              "</table>\n",
              "<p>12626 rows × 9 columns</p>\n",
              "</div>\n",
              "      <button class=\"colab-df-convert\" onclick=\"convertToInteractive('df-a49b1572-e7fb-4175-8be3-bdbb5d6fa6d2')\"\n",
              "              title=\"Convert this dataframe to an interactive table.\"\n",
              "              style=\"display:none;\">\n",
              "        \n",
              "  <svg xmlns=\"http://www.w3.org/2000/svg\" height=\"24px\"viewBox=\"0 0 24 24\"\n",
              "       width=\"24px\">\n",
              "    <path d=\"M0 0h24v24H0V0z\" fill=\"none\"/>\n",
              "    <path d=\"M18.56 5.44l.94 2.06.94-2.06 2.06-.94-2.06-.94-.94-2.06-.94 2.06-2.06.94zm-11 1L8.5 8.5l.94-2.06 2.06-.94-2.06-.94L8.5 2.5l-.94 2.06-2.06.94zm10 10l.94 2.06.94-2.06 2.06-.94-2.06-.94-.94-2.06-.94 2.06-2.06.94z\"/><path d=\"M17.41 7.96l-1.37-1.37c-.4-.4-.92-.59-1.43-.59-.52 0-1.04.2-1.43.59L10.3 9.45l-7.72 7.72c-.78.78-.78 2.05 0 2.83L4 21.41c.39.39.9.59 1.41.59.51 0 1.02-.2 1.41-.59l7.78-7.78 2.81-2.81c.8-.78.8-2.07 0-2.86zM5.41 20L4 18.59l7.72-7.72 1.47 1.35L5.41 20z\"/>\n",
              "  </svg>\n",
              "      </button>\n",
              "      \n",
              "  <style>\n",
              "    .colab-df-container {\n",
              "      display:flex;\n",
              "      flex-wrap:wrap;\n",
              "      gap: 12px;\n",
              "    }\n",
              "\n",
              "    .colab-df-convert {\n",
              "      background-color: #E8F0FE;\n",
              "      border: none;\n",
              "      border-radius: 50%;\n",
              "      cursor: pointer;\n",
              "      display: none;\n",
              "      fill: #1967D2;\n",
              "      height: 32px;\n",
              "      padding: 0 0 0 0;\n",
              "      width: 32px;\n",
              "    }\n",
              "\n",
              "    .colab-df-convert:hover {\n",
              "      background-color: #E2EBFA;\n",
              "      box-shadow: 0px 1px 2px rgba(60, 64, 67, 0.3), 0px 1px 3px 1px rgba(60, 64, 67, 0.15);\n",
              "      fill: #174EA6;\n",
              "    }\n",
              "\n",
              "    [theme=dark] .colab-df-convert {\n",
              "      background-color: #3B4455;\n",
              "      fill: #D2E3FC;\n",
              "    }\n",
              "\n",
              "    [theme=dark] .colab-df-convert:hover {\n",
              "      background-color: #434B5C;\n",
              "      box-shadow: 0px 1px 3px 1px rgba(0, 0, 0, 0.15);\n",
              "      filter: drop-shadow(0px 1px 2px rgba(0, 0, 0, 0.3));\n",
              "      fill: #FFFFFF;\n",
              "    }\n",
              "  </style>\n",
              "\n",
              "      <script>\n",
              "        const buttonEl =\n",
              "          document.querySelector('#df-a49b1572-e7fb-4175-8be3-bdbb5d6fa6d2 button.colab-df-convert');\n",
              "        buttonEl.style.display =\n",
              "          google.colab.kernel.accessAllowed ? 'block' : 'none';\n",
              "\n",
              "        async function convertToInteractive(key) {\n",
              "          const element = document.querySelector('#df-a49b1572-e7fb-4175-8be3-bdbb5d6fa6d2');\n",
              "          const dataTable =\n",
              "            await google.colab.kernel.invokeFunction('convertToInteractive',\n",
              "                                                     [key], {});\n",
              "          if (!dataTable) return;\n",
              "\n",
              "          const docLinkHtml = 'Like what you see? Visit the ' +\n",
              "            '<a target=\"_blank\" href=https://colab.research.google.com/notebooks/data_table.ipynb>data table notebook</a>'\n",
              "            + ' to learn more about interactive tables.';\n",
              "          element.innerHTML = '';\n",
              "          dataTable['output_type'] = 'display_data';\n",
              "          await google.colab.output.renderOutput(dataTable, element);\n",
              "          const docLink = document.createElement('div');\n",
              "          docLink.innerHTML = docLinkHtml;\n",
              "          element.appendChild(docLink);\n",
              "        }\n",
              "      </script>\n",
              "    </div>\n",
              "  </div>\n",
              "  "
            ]
          },
          "metadata": {},
          "execution_count": 9
        }
      ]
    },
    {
      "cell_type": "markdown",
      "metadata": {
        "id": "cwLvPINIlN1c"
      },
      "source": [
        "#PREPROCESSING DATASET"
      ]
    },
    {
      "cell_type": "markdown",
      "metadata": {
        "id": "YEdTSAZY7MLc"
      },
      "source": [
        "##Create new dataframe to feed model"
      ]
    },
    {
      "cell_type": "code",
      "source": [
        "popular_tutor_rating = popular_tutor_rating_df[['MenteeID', 'TutorID', 'Subjects', 'Rating']]\n",
        "popular_tutor_rating"
      ],
      "metadata": {
        "id": "xad6URHdo5lF",
        "colab": {
          "base_uri": "https://localhost:8080/",
          "height": 411
        },
        "outputId": "6f1928e0-b46c-430b-d8a1-86729f7df1e8"
      },
      "execution_count": null,
      "outputs": [
        {
          "output_type": "execute_result",
          "data": {
            "text/plain": [
              "      MenteeID TutorID    Subjects  Rating\n",
              "0       B36652  A16227     Ekonomi       3\n",
              "1       B63077  A16227     Ekonomi       5\n",
              "2       B14364  A16227     Ekonomi       5\n",
              "3       B61521  A16227     Ekonomi       4\n",
              "4       B62409  A16227     Ekonomi       5\n",
              "...        ...     ...         ...     ...\n",
              "12621   B29822  A17248  Matematika       3\n",
              "12622   B64162  A17248  Matematika       3\n",
              "12623   B32844  A17248  Matematika       4\n",
              "12624   B97893  A17248  Matematika       5\n",
              "12625   B33877  A17248  Matematika       5\n",
              "\n",
              "[12626 rows x 4 columns]"
            ],
            "text/html": [
              "\n",
              "  <div id=\"df-c2865327-f815-4b5f-af8a-bed43df67068\">\n",
              "    <div class=\"colab-df-container\">\n",
              "      <div>\n",
              "<style scoped>\n",
              "    .dataframe tbody tr th:only-of-type {\n",
              "        vertical-align: middle;\n",
              "    }\n",
              "\n",
              "    .dataframe tbody tr th {\n",
              "        vertical-align: top;\n",
              "    }\n",
              "\n",
              "    .dataframe thead th {\n",
              "        text-align: right;\n",
              "    }\n",
              "</style>\n",
              "<table border=\"1\" class=\"dataframe\">\n",
              "  <thead>\n",
              "    <tr style=\"text-align: right;\">\n",
              "      <th></th>\n",
              "      <th>MenteeID</th>\n",
              "      <th>TutorID</th>\n",
              "      <th>Subjects</th>\n",
              "      <th>Rating</th>\n",
              "    </tr>\n",
              "  </thead>\n",
              "  <tbody>\n",
              "    <tr>\n",
              "      <th>0</th>\n",
              "      <td>B36652</td>\n",
              "      <td>A16227</td>\n",
              "      <td>Ekonomi</td>\n",
              "      <td>3</td>\n",
              "    </tr>\n",
              "    <tr>\n",
              "      <th>1</th>\n",
              "      <td>B63077</td>\n",
              "      <td>A16227</td>\n",
              "      <td>Ekonomi</td>\n",
              "      <td>5</td>\n",
              "    </tr>\n",
              "    <tr>\n",
              "      <th>2</th>\n",
              "      <td>B14364</td>\n",
              "      <td>A16227</td>\n",
              "      <td>Ekonomi</td>\n",
              "      <td>5</td>\n",
              "    </tr>\n",
              "    <tr>\n",
              "      <th>3</th>\n",
              "      <td>B61521</td>\n",
              "      <td>A16227</td>\n",
              "      <td>Ekonomi</td>\n",
              "      <td>4</td>\n",
              "    </tr>\n",
              "    <tr>\n",
              "      <th>4</th>\n",
              "      <td>B62409</td>\n",
              "      <td>A16227</td>\n",
              "      <td>Ekonomi</td>\n",
              "      <td>5</td>\n",
              "    </tr>\n",
              "    <tr>\n",
              "      <th>...</th>\n",
              "      <td>...</td>\n",
              "      <td>...</td>\n",
              "      <td>...</td>\n",
              "      <td>...</td>\n",
              "    </tr>\n",
              "    <tr>\n",
              "      <th>12621</th>\n",
              "      <td>B29822</td>\n",
              "      <td>A17248</td>\n",
              "      <td>Matematika</td>\n",
              "      <td>3</td>\n",
              "    </tr>\n",
              "    <tr>\n",
              "      <th>12622</th>\n",
              "      <td>B64162</td>\n",
              "      <td>A17248</td>\n",
              "      <td>Matematika</td>\n",
              "      <td>3</td>\n",
              "    </tr>\n",
              "    <tr>\n",
              "      <th>12623</th>\n",
              "      <td>B32844</td>\n",
              "      <td>A17248</td>\n",
              "      <td>Matematika</td>\n",
              "      <td>4</td>\n",
              "    </tr>\n",
              "    <tr>\n",
              "      <th>12624</th>\n",
              "      <td>B97893</td>\n",
              "      <td>A17248</td>\n",
              "      <td>Matematika</td>\n",
              "      <td>5</td>\n",
              "    </tr>\n",
              "    <tr>\n",
              "      <th>12625</th>\n",
              "      <td>B33877</td>\n",
              "      <td>A17248</td>\n",
              "      <td>Matematika</td>\n",
              "      <td>5</td>\n",
              "    </tr>\n",
              "  </tbody>\n",
              "</table>\n",
              "<p>12626 rows × 4 columns</p>\n",
              "</div>\n",
              "      <button class=\"colab-df-convert\" onclick=\"convertToInteractive('df-c2865327-f815-4b5f-af8a-bed43df67068')\"\n",
              "              title=\"Convert this dataframe to an interactive table.\"\n",
              "              style=\"display:none;\">\n",
              "        \n",
              "  <svg xmlns=\"http://www.w3.org/2000/svg\" height=\"24px\"viewBox=\"0 0 24 24\"\n",
              "       width=\"24px\">\n",
              "    <path d=\"M0 0h24v24H0V0z\" fill=\"none\"/>\n",
              "    <path d=\"M18.56 5.44l.94 2.06.94-2.06 2.06-.94-2.06-.94-.94-2.06-.94 2.06-2.06.94zm-11 1L8.5 8.5l.94-2.06 2.06-.94-2.06-.94L8.5 2.5l-.94 2.06-2.06.94zm10 10l.94 2.06.94-2.06 2.06-.94-2.06-.94-.94-2.06-.94 2.06-2.06.94z\"/><path d=\"M17.41 7.96l-1.37-1.37c-.4-.4-.92-.59-1.43-.59-.52 0-1.04.2-1.43.59L10.3 9.45l-7.72 7.72c-.78.78-.78 2.05 0 2.83L4 21.41c.39.39.9.59 1.41.59.51 0 1.02-.2 1.41-.59l7.78-7.78 2.81-2.81c.8-.78.8-2.07 0-2.86zM5.41 20L4 18.59l7.72-7.72 1.47 1.35L5.41 20z\"/>\n",
              "  </svg>\n",
              "      </button>\n",
              "      \n",
              "  <style>\n",
              "    .colab-df-container {\n",
              "      display:flex;\n",
              "      flex-wrap:wrap;\n",
              "      gap: 12px;\n",
              "    }\n",
              "\n",
              "    .colab-df-convert {\n",
              "      background-color: #E8F0FE;\n",
              "      border: none;\n",
              "      border-radius: 50%;\n",
              "      cursor: pointer;\n",
              "      display: none;\n",
              "      fill: #1967D2;\n",
              "      height: 32px;\n",
              "      padding: 0 0 0 0;\n",
              "      width: 32px;\n",
              "    }\n",
              "\n",
              "    .colab-df-convert:hover {\n",
              "      background-color: #E2EBFA;\n",
              "      box-shadow: 0px 1px 2px rgba(60, 64, 67, 0.3), 0px 1px 3px 1px rgba(60, 64, 67, 0.15);\n",
              "      fill: #174EA6;\n",
              "    }\n",
              "\n",
              "    [theme=dark] .colab-df-convert {\n",
              "      background-color: #3B4455;\n",
              "      fill: #D2E3FC;\n",
              "    }\n",
              "\n",
              "    [theme=dark] .colab-df-convert:hover {\n",
              "      background-color: #434B5C;\n",
              "      box-shadow: 0px 1px 3px 1px rgba(0, 0, 0, 0.15);\n",
              "      filter: drop-shadow(0px 1px 2px rgba(0, 0, 0, 0.3));\n",
              "      fill: #FFFFFF;\n",
              "    }\n",
              "  </style>\n",
              "\n",
              "      <script>\n",
              "        const buttonEl =\n",
              "          document.querySelector('#df-c2865327-f815-4b5f-af8a-bed43df67068 button.colab-df-convert');\n",
              "        buttonEl.style.display =\n",
              "          google.colab.kernel.accessAllowed ? 'block' : 'none';\n",
              "\n",
              "        async function convertToInteractive(key) {\n",
              "          const element = document.querySelector('#df-c2865327-f815-4b5f-af8a-bed43df67068');\n",
              "          const dataTable =\n",
              "            await google.colab.kernel.invokeFunction('convertToInteractive',\n",
              "                                                     [key], {});\n",
              "          if (!dataTable) return;\n",
              "\n",
              "          const docLinkHtml = 'Like what you see? Visit the ' +\n",
              "            '<a target=\"_blank\" href=https://colab.research.google.com/notebooks/data_table.ipynb>data table notebook</a>'\n",
              "            + ' to learn more about interactive tables.';\n",
              "          element.innerHTML = '';\n",
              "          dataTable['output_type'] = 'display_data';\n",
              "          await google.colab.output.renderOutput(dataTable, element);\n",
              "          const docLink = document.createElement('div');\n",
              "          docLink.innerHTML = docLinkHtml;\n",
              "          element.appendChild(docLink);\n",
              "        }\n",
              "      </script>\n",
              "    </div>\n",
              "  </div>\n",
              "  "
            ]
          },
          "metadata": {},
          "execution_count": 10
        }
      ]
    },
    {
      "cell_type": "markdown",
      "source": [
        "#COLLABORATIVE FILTERING USING TENSORFLOW"
      ],
      "metadata": {
        "id": "McCOn3mKitZl"
      }
    },
    {
      "cell_type": "markdown",
      "metadata": {
        "id": "uTIj_cJU7zuE"
      },
      "source": [
        "###SPLIT DATASET"
      ]
    },
    {
      "cell_type": "code",
      "source": [
        "from sklearn.model_selection import train_test_split\n",
        "train_data, test_data = train_test_split(popular_tutor_rating, test_size=0.2, random_state=42)"
      ],
      "metadata": {
        "id": "uzigiLomBdmK"
      },
      "execution_count": null,
      "outputs": []
    },
    {
      "cell_type": "markdown",
      "source": [
        "###MAP MENTEEID AND TUTORID"
      ],
      "metadata": {
        "id": "lsYvLK2AjFU0"
      }
    },
    {
      "cell_type": "code",
      "source": [
        "# Get the unique mentee and tutor IDs\n",
        "mentee_ids = popular_tutor_rating['MenteeID'].unique()\n",
        "\n",
        "# Create mappings from IDs to indices and vice versa\n",
        "mentee_to_index = {id: index for index, id in enumerate(mentee_ids)}\n",
        "index_to_mentee = {index: id for index, id in enumerate(mentee_ids)}\n",
        "\n",
        "# Get the unique TutorID values\n",
        "tutor_ids = popular_tutor_rating['TutorID'].unique()\n",
        "\n",
        "# Create a mapping from TutorID to index\n",
        "tutor_to_index = {id: index for index, id in enumerate(tutor_ids)}\n",
        "index_to_tutor = {index: id for index, id in enumerate(tutor_ids)}"
      ],
      "metadata": {
        "id": "SqfgA04eVv4p"
      },
      "execution_count": null,
      "outputs": []
    },
    {
      "cell_type": "markdown",
      "source": [
        "###MASKING TRAIN DATA & TEST DATA"
      ],
      "metadata": {
        "id": "NaRcaZjMjLQM"
      }
    },
    {
      "cell_type": "code",
      "source": [
        "# Masking for training data\n",
        "df_train = popular_tutor_rating.copy()\n",
        "\n",
        "for i in range(test_data.shape[0]):\n",
        "  df_train.loc[(df_train.MenteeID == test_data.iloc[[i]].MenteeID.values[0]) & (df_train.TutorID == test_data.iloc[[i]].TutorID.values[0]), 'Rating'] = 0"
      ],
      "metadata": {
        "id": "ETb1N6aNLZMC"
      },
      "execution_count": null,
      "outputs": []
    },
    {
      "cell_type": "code",
      "source": [
        "# Making rating 0\n",
        "\n",
        "df_test = popular_tutor_rating.copy()\n",
        "\n",
        "for col in df_test.Rating :\n",
        "  df_test['Rating'].values[:] = 0"
      ],
      "metadata": {
        "id": "PDQ_b9ucM9mz"
      },
      "execution_count": null,
      "outputs": []
    },
    {
      "cell_type": "code",
      "source": [
        "# Masking for testing data\n",
        "\n",
        "for i in range(test_data.shape[0]):\n",
        "  df_test.loc[(df_test.MenteeID == test_data.iloc[[i]].MenteeID.values[0]) & (df_test.TutorID == test_data.iloc[[i]].TutorID.values[0]), 'Rating'] = test_data.iloc[[i]].Rating.values[0]"
      ],
      "metadata": {
        "id": "XckPigieNkUZ"
      },
      "execution_count": null,
      "outputs": []
    },
    {
      "cell_type": "code",
      "source": [
        "user_tutor_matrix_train = pd.pivot_table(\n",
        "    data=df_train,\n",
        "    values='Rating',\n",
        "    index='MenteeID',\n",
        "    columns='TutorID',\n",
        "    # aggfunc=np.mean,  # Use the mean rating as the aggregation function\n",
        "    fill_value=0  # Fill missing values with 0\n",
        ")\n",
        "user_tutor_matrix_train.shape"
      ],
      "metadata": {
        "id": "ddlYtq4QBYYI",
        "colab": {
          "base_uri": "https://localhost:8080/"
        },
        "outputId": "8958f3af-1196-45b1-9693-dcb9c5ebf7aa"
      },
      "execution_count": null,
      "outputs": [
        {
          "output_type": "execute_result",
          "data": {
            "text/plain": [
              "(1495, 499)"
            ]
          },
          "metadata": {},
          "execution_count": 20
        }
      ]
    },
    {
      "cell_type": "code",
      "source": [
        "user_tutor_matrix_test = pd.pivot_table(\n",
        "    data=df_test,\n",
        "    values='Rating',\n",
        "    index='MenteeID',\n",
        "    columns='TutorID',\n",
        "    # aggfunc=np.mean,  # Use the mean rating as the aggregation function\n",
        "    fill_value=0  # Fill missing values with 0\n",
        ")\n",
        "user_tutor_matrix_test"
      ],
      "metadata": {
        "id": "9I2mZ3GsKGze"
      },
      "execution_count": null,
      "outputs": []
    },
    {
      "cell_type": "code",
      "source": [
        "data_test = pd.pivot_table(\n",
        "    data=popular_tutor_rating,\n",
        "    values='Rating',\n",
        "    index='MenteeID',\n",
        "    columns='TutorID',\n",
        "    # aggfunc=np.mean,  # Use the mean rating as the aggregation function\n",
        "    fill_value=0  # Fill missing values with 0\n",
        ")\n",
        "# Generate random ratings for empty values\n",
        "data_test_filled = data_test.applymap(lambda x: np.random.randint(1, 6) if x == 0 else x)\n",
        "data_test_filled"
      ],
      "metadata": {
        "id": "DmdCkuylYUCW"
      },
      "execution_count": null,
      "outputs": []
    },
    {
      "cell_type": "markdown",
      "source": [
        "##BUILD A MODEL\n",
        "\n"
      ],
      "metadata": {
        "id": "QdfmjolZjWMx"
      }
    },
    {
      "cell_type": "code",
      "source": [
        "class CollaborativeFilteringModel(tf.Module):\n",
        "    def __init__(self, P, Q):\n",
        "        super(CollaborativeFilteringModel, self).__init__()\n",
        "        self.P = tf.Variable(P, name='P')\n",
        "        self.Q = tf.Variable(Q, name='Q')\n",
        "\n",
        "    @tf.function(input_signature=[tf.TensorSpec(shape=(None, None), dtype=tf.float32)])\n",
        "    def predict(self, x):\n",
        "        # Perform predictions using the learned latent features\n",
        "        pred_R = tf.matmul(self.P, tf.transpose(self.Q))\n",
        "\n",
        "        # Calculate the predicted ratings matrix\n",
        "        predictions = tf.identity(pred_R)\n",
        "\n",
        "        return {'predictions': predictions}\n",
        "\n",
        "    def calculate_rmse(self, R, P, Q):\n",
        "        pred_R = tf.matmul(P, tf.transpose(Q))\n",
        "        squared_diff = tf.square(R - pred_R)\n",
        "        mse = tf.reduce_mean(squared_diff)\n",
        "        rmse = tf.sqrt(mse)\n",
        "        return rmse\n",
        "\n",
        "    @tf.function\n",
        "    def compute_loss(self, R, P, Q, regularization):\n",
        "        pred_R = tf.matmul(P, tf.transpose(Q))\n",
        "        cur_loss = tf.reduce_sum(tf.square(R - pred_R))\n",
        "        regularization_term = tf.reduce_sum(tf.square(P)) + tf.reduce_sum(tf.square(Q))\n",
        "        cur_loss += regularization * regularization_term\n",
        "        return cur_loss\n",
        "\n",
        "    def fit(self, X_train, X_test, num_epochs, learning_rate, regularization):\n",
        "        X_train = tf.constant(X_train, dtype=tf.float32)\n",
        "        X_test = tf.constant(X_test, dtype=tf.float32)\n",
        "\n",
        "        optimizer = tf.optimizers.Adam(learning_rate=learning_rate)\n",
        "\n",
        "        loss_history = []\n",
        "        rmse_history = []\n",
        "        test_loss_history = []\n",
        "        test_rmse_history = []\n",
        "        @tf.function\n",
        "        def train_step(R, P, Q):\n",
        "            with tf.GradientTape() as tape:\n",
        "                cur_loss = self.compute_loss(R, P, Q, regularization)\n",
        "\n",
        "            gradients = tape.gradient(cur_loss, [P, Q])\n",
        "            optimizer.apply_gradients(zip(gradients, [P, Q]))\n",
        "\n",
        "            return cur_loss\n",
        "\n",
        "        for epoch in range(num_epochs):\n",
        "            cur_loss = train_step(X_train, self.P, self.Q)\n",
        "            loss_history.append(cur_loss.numpy())\n",
        "\n",
        "            train_rmse = self.calculate_rmse(X_train, self.P, self.Q)\n",
        "            rmse_history.append(train_rmse.numpy())\n",
        "\n",
        "            test_loss = self.compute_loss(X_test, self.P, self.Q, regularization)\n",
        "            test_loss_history.append(test_loss.numpy())\n",
        "\n",
        "            test_rmse = self.calculate_rmse(X_test, self.P, self.Q)\n",
        "            test_rmse_history.append(test_rmse.numpy())\n",
        "\n",
        "\n",
        "            print(f\"Epoch {epoch + 1}/{num_epochs}, Train Loss: {cur_loss.numpy()}, Train RMSE: {train_rmse}, Test Loss: {test_loss.numpy()}, Test RMSE: {test_rmse}\")\n",
        "\n",
        "        return loss_history, rmse_history, test_loss_history, test_rmse_history"
      ],
      "metadata": {
        "id": "1qXzuP0sQPU5"
      },
      "execution_count": null,
      "outputs": []
    },
    {
      "cell_type": "markdown",
      "source": [
        "#MODEL COMPILE"
      ],
      "metadata": {
        "id": "CmtHkp0xMzly"
      }
    },
    {
      "cell_type": "code",
      "source": [
        "def build_model(X_train, X_test, num_epochs, learning_rate, regularization, latent_dim):\n",
        "\n",
        "    num_users, num_items = X_train.shape\n",
        "\n",
        "    P = tf.Variable(tf.random.normal([num_users, latent_dim]))\n",
        "    Q = tf.Variable(tf.random.normal([num_items, latent_dim]))\n",
        "\n",
        "    model = CollaborativeFilteringModel(P, Q)\n",
        "\n",
        "    loss_history, rmse_history, test_loss_history, test_rmse_history = model.fit(X_train, X_test, num_epochs, learning_rate, regularization)\n",
        "\n",
        "    return model, loss_history, rmse_history, test_loss_history, test_rmse_history"
      ],
      "metadata": {
        "id": "JrjIzaVbQ_NR"
      },
      "execution_count": null,
      "outputs": []
    },
    {
      "cell_type": "code",
      "source": [
        "# Set the hyperparameters\n",
        "num_epochs = 300\n",
        "learning_rate = 0.02\n",
        "regularization = 0.015\n",
        "latent_dim = 220"
      ],
      "metadata": {
        "id": "jehB55RsjBD5"
      },
      "execution_count": null,
      "outputs": []
    },
    {
      "cell_type": "code",
      "source": [
        "model, loss_history, rmse_history, test_loss_history, test_rmse_history = build_model(user_tutor_matrix_train, user_tutor_matrix_test, num_epochs, learning_rate, regularization, latent_dim)"
      ],
      "metadata": {
        "id": "cs915kMrSD2t"
      },
      "execution_count": null,
      "outputs": []
    },
    {
      "cell_type": "markdown",
      "source": [
        "##TEST MODEL"
      ],
      "metadata": {
        "id": "MYcsr5EORDI3"
      }
    },
    {
      "cell_type": "code",
      "source": [
        "def calculate_mse_rmse(model, X_test):\n",
        "    pred_R = model.predict(X_test)['predictions']\n",
        "    actual_R = np.array(X_test, dtype=np.float32)\n",
        "    mse = tf.reduce_mean(tf.square(actual_R - pred_R))\n",
        "    rmse = tf.sqrt(mse)\n",
        "    return mse.numpy(), rmse.numpy()"
      ],
      "metadata": {
        "id": "oYh7MFYlCjbo"
      },
      "execution_count": null,
      "outputs": []
    },
    {
      "cell_type": "code",
      "source": [
        "mse, rmse = calculate_mse_rmse(model, user_tutor_matrix_train)\n",
        "mse, rmse"
      ],
      "metadata": {
        "id": "c7lRdoVeCIAz",
        "colab": {
          "base_uri": "https://localhost:8080/"
        },
        "outputId": "98427065-baec-4f3b-eb08-ea60ea9d3a16"
      },
      "execution_count": null,
      "outputs": [
        {
          "output_type": "execute_result",
          "data": {
            "text/plain": [
              "(0.15869673, 0.39836758)"
            ]
          },
          "metadata": {},
          "execution_count": 244
        }
      ]
    },
    {
      "cell_type": "code",
      "source": [
        "# Compute the loss on the test data\n",
        "test_loss = model.compute_loss(tf.cast(user_tutor_matrix_test.values, dtype=tf.float32), model.P, model.Q, regularization)\n",
        "print(f\"Test Loss: {test_loss.numpy()}\")"
      ],
      "metadata": {
        "colab": {
          "base_uri": "https://localhost:8080/"
        },
        "id": "5fjF6GAU71U3",
        "outputId": "2a9b4c63-4d09-437f-88ec-4a92a8c5d47d"
      },
      "execution_count": null,
      "outputs": [
        {
          "output_type": "stream",
          "name": "stdout",
          "text": [
            "Test Loss: 109280.3359375\n"
          ]
        }
      ]
    },
    {
      "cell_type": "markdown",
      "source": [
        "#PLOT LOSS AND RMSE"
      ],
      "metadata": {
        "id": "q3ui94pzZqdt"
      }
    },
    {
      "cell_type": "code",
      "source": [
        "import matplotlib.pyplot as plt\n",
        "def plot_loss_and_rmse(train_loss_history, train_rmse_history, test_loss_history, test_rmse_history):\n",
        "    epochs = len(train_loss_history)\n",
        "    x = np.arange(1, epochs + 1)\n",
        "\n",
        "    # Plot train loss\n",
        "    plt.figure(figsize=(8, 4))\n",
        "    plt.subplot(1, 2, 1)\n",
        "    plt.plot(x, train_loss_history, color='Pink')\n",
        "    plt.xlabel('Epoch')\n",
        "    plt.ylabel('Train Loss')\n",
        "    plt.title('Train Loss', color='Pink')\n",
        "\n",
        "    # Plot train RMSE\n",
        "    plt.subplot(1, 2, 2)\n",
        "    plt.plot(x, train_rmse_history, color='Pink')\n",
        "    plt.xlabel('Epoch')\n",
        "    plt.ylabel('Train RMSE')\n",
        "    plt.title('Train RMSE', color='Pink')\n",
        "\n",
        "    # Plot test loss\n",
        "    plt.figure(figsize=(8, 4))\n",
        "    plt.subplot(1, 2, 1)\n",
        "    plt.plot(x, test_loss_history, color='Purple')\n",
        "    plt.xlabel('Epoch')\n",
        "    plt.ylabel('Test Loss')\n",
        "    plt.title('Test Loss', color='Purple')\n",
        "\n",
        "    # Plot test RMSE\n",
        "    plt.subplot(1, 2, 2)\n",
        "    plt.plot(x, test_rmse_history, color='Purple')\n",
        "    plt.xlabel('Epoch')\n",
        "    plt.ylabel('Test RMSE')\n",
        "    plt.title('Test RMSE', color='Purple')\n",
        "\n",
        "    plt.tight_layout()\n",
        "    plt.show()"
      ],
      "metadata": {
        "id": "HC0Rak7fZtrV"
      },
      "execution_count": null,
      "outputs": []
    },
    {
      "cell_type": "code",
      "source": [
        "plot_loss_and_rmse(loss_history, rmse_history, test_loss_history, test_rmse_history)"
      ],
      "metadata": {
        "colab": {
          "base_uri": "https://localhost:8080/",
          "height": 800
        },
        "id": "itQ9_jdrZ89-",
        "outputId": "d03ed702-b988-4cb6-de63-e92f25c695cf"
      },
      "execution_count": null,
      "outputs": [
        {
          "output_type": "display_data",
          "data": {
            "text/plain": [
              "<Figure size 800x400 with 2 Axes>"
            ],
            "image/png": "[encoded data removed]"
          },
          "metadata": {}
        },
        {
          "output_type": "display_data",
          "data": {
            "text/plain": [
              "<Figure size 800x400 with 2 Axes>"
            ],
            "image/png": "[encoded data removed]"
          },
          "metadata": {}
        }
      ]
    },
    {
      "cell_type": "markdown",
      "source": [
        "#Save Model"
      ],
      "metadata": {
        "id": "u9yuh3GEtRx_"
      }
    },
    {
      "cell_type": "code",
      "source": [
        "import os\n",
        "print(os.getcwd())"
      ],
      "metadata": {
        "colab": {
          "base_uri": "https://localhost:8080/"
        },
        "id": "KODTc1HWtUDP",
        "outputId": "2d5716bb-0e73-480a-a714-00e636815f09"
      },
      "execution_count": null,
      "outputs": [
        {
          "output_type": "stream",
          "name": "stdout",
          "text": [
            "/content\n"
          ]
        }
      ]
    },
    {
      "cell_type": "code",
      "source": [
        "# Menyimpan model dengan signature\n",
        "tf.saved_model.save(\n",
        "    model,\n",
        "    'collaborative_filtering_model',\n",
        "    signatures={\n",
        "        'predict': model.predict.get_concrete_function(\n",
        "            tf.TensorSpec(shape=(None, None), dtype=tf.float32))\n",
        "    }\n",
        ")"
      ],
      "metadata": {
        "id": "IjCyZTzpu_T0"
      },
      "execution_count": null,
      "outputs": []
    },
    {
      "cell_type": "markdown",
      "source": [
        "##Testing to Make Recommendation"
      ],
      "metadata": {
        "id": "sK9aRBhvtKNd"
      }
    },
    {
      "cell_type": "code",
      "source": [
        "loaded_model = tf.saved_model.load('collaborative_filtering_model')"
      ],
      "metadata": {
        "id": "E6xNrF_5vu48"
      },
      "execution_count": null,
      "outputs": []
    },
    {
      "cell_type": "code",
      "source": [
        "# Generate predictions using the loaded model\n",
        "test_pred = tf.matmul(loaded_model.P, tf.transpose(loaded_model.Q))\n",
        "\n",
        "# Convert user_tutor_matrix_test to numpy array\n",
        "X_test = np.array(user_tutor_matrix_test, dtype=np.float32)\n",
        "# Calculate the MSE and RMSE for testing\n",
        "mse = tf.reduce_mean(tf.square(X_test - test_pred))\n",
        "rmse = tf.sqrt(mse)\n",
        "print(\"MSE on loaded model:\", mse.numpy())\n",
        "print(\"RMSE on loaded model:\", rmse.numpy())"
      ],
      "metadata": {
        "colab": {
          "base_uri": "https://localhost:8080/"
        },
        "id": "CAnqnjWFwAKA",
        "outputId": "b0ec3984-f154-4023-c496-1d186e8ab885"
      },
      "execution_count": null,
      "outputs": [
        {
          "output_type": "stream",
          "name": "stdout",
          "text": [
            "MSE on loaded model: 0.117329225\n",
            "RMSE on loaded model: 0.34253353\n"
          ]
        }
      ]
    },
    {
      "cell_type": "code",
      "source": [
        "new_predictions = loaded_model.predict(user_tutor_matrix_test)\n",
        "predictions_array = new_predictions['predictions'].numpy()\n",
        "predictions_array"
      ],
      "metadata": {
        "id": "bIir1Bx1CzEf",
        "colab": {
          "base_uri": "https://localhost:8080/"
        },
        "outputId": "044b30ed-ea99-4d78-fe95-a1e418765405"
      },
      "execution_count": null,
      "outputs": [
        {
          "output_type": "execute_result",
          "data": {
            "text/plain": [
              "array([[ 2.1652460e-01,  6.5354109e-03, -1.8822956e-01, ...,\n",
              "        -1.4089358e-01,  1.3918471e-01, -6.4182281e-03],\n",
              "       [ 3.0262882e-01, -2.3150969e-01,  1.2092590e-03, ...,\n",
              "         3.1113255e-01, -3.5863400e-02,  1.2978750e-01],\n",
              "       [ 6.6029131e-02, -3.7199259e-02,  2.8655171e-02, ...,\n",
              "        -4.0038824e-02, -8.1672192e-02, -2.8619766e-03],\n",
              "       ...,\n",
              "       [ 2.0679653e-01, -1.8853533e-01,  2.0140970e-01, ...,\n",
              "         5.6878328e-02,  2.7406120e-01, -4.4265437e-01],\n",
              "       [ 1.0408735e-01,  6.2641621e-02, -1.0821986e-01, ...,\n",
              "        -1.7176425e-01, -2.4574280e-01,  1.7390251e-01],\n",
              "       [ 1.1977782e+00, -1.3760710e-01,  7.1705818e-02, ...,\n",
              "        -7.6553822e-02,  4.6861172e-04,  8.8102102e-02]], dtype=float32)"
            ]
          },
          "metadata": {},
          "execution_count": 242
        }
      ]
    },
    {
      "cell_type": "code",
      "source": [
        "def model_recommend(mentee_id, pred, mentee_to_index, index_to_tutor, top_k=10):\n",
        "    # Get the index of the specified mentee\n",
        "    mentee_index = mentee_to_index.get(mentee_id)\n",
        "\n",
        "    if mentee_index is None:\n",
        "        print(\"Mentee ID not found.\")\n",
        "        return []\n",
        "\n",
        "    # Get the predicted ratings for the specified mentee from the predictions array\n",
        "    mentee_pred_ratings = pred[mentee_index]\n",
        "\n",
        "    # Sort the predicted ratings in descending order\n",
        "    top_indices = np.argsort(mentee_pred_ratings)[::-1][:top_k]\n",
        "\n",
        "    # Map the indices back to tutor IDs\n",
        "    top_tutors = [index_to_tutor[i] for i in top_indices]\n",
        "\n",
        "    return top_tutors"
      ],
      "metadata": {
        "id": "FnXIBqKk45oC"
      },
      "execution_count": null,
      "outputs": []
    },
    {
      "cell_type": "code",
      "source": [
        "mentee_id = 'B34255'\n",
        "# Get the top recommended tutors for the specified mentee\n",
        "recommended_tutors = model_recommend(mentee_id, predictions_array, mentee_to_index, index_to_tutor, top_k=10)\n",
        "\n",
        "print(\"Top recommended tutors for mentee\", mentee_id, \":\")\n",
        "for tutor_id in recommended_tutors:\n",
        "    print(tutor_id)"
      ],
      "metadata": {
        "colab": {
          "base_uri": "https://localhost:8080/"
        },
        "id": "fY3IuKdP5BHW",
        "outputId": "0c2bf152-e926-4fe2-cc50-1baf9a83a41b"
      },
      "execution_count": null,
      "outputs": [
        {
          "output_type": "stream",
          "name": "stdout",
          "text": [
            "Top recommended tutors for mentee B34255 :\n",
            "A59644\n",
            "A51472\n",
            "A58378\n",
            "A85530\n",
            "A28425\n",
            "A75116\n",
            "A85449\n",
            "A66207\n",
            "A87636\n",
            "A28116\n"
          ]
        }
      ]
    },
    {
      "cell_type": "markdown",
      "source": [
        "##To Make Sure the model give good enough recommendation"
      ],
      "metadata": {
        "id": "6ckX1MLl7XnS"
      }
    },
    {
      "cell_type": "code",
      "source": [
        "popular_tutor_rating.loc[popular_tutor_rating['MenteeID']=='B34255']"
      ],
      "metadata": {
        "id": "q-SHEHQA5U2U",
        "colab": {
          "base_uri": "https://localhost:8080/",
          "height": 322
        },
        "outputId": "e0d11ea0-c2d2-40a5-cd2b-9de52c1a343c"
      },
      "execution_count": null,
      "outputs": [
        {
          "output_type": "execute_result",
          "data": {
            "text/plain": [
              "     MenteeID TutorID        Subjects  Rating\n",
              "8425   B34255  A70862           Kimia       5\n",
              "8507   B34255  A61005  Bahasa Inggris       3\n",
              "8563   B34255  A20245           Kimia       3\n",
              "8615   B34255  A57923         Ekonomi       3\n",
              "8859   B34255  A94552         Sejarah       5\n",
              "8919   B34255  A12059           Kimia       4\n",
              "9123   B34255  A72629         Ekonomi       5\n",
              "9204   B34255  A76751         Ekonomi       4\n",
              "9377   B34255  A91673           Kimia       5"
            ],
            "text/html": [
              "\n",
              "  <div id=\"df-cd744050-d027-429c-ba19-c025a8f6f7b1\">\n",
              "    <div class=\"colab-df-container\">\n",
              "      <div>\n",
              "<style scoped>\n",
              "    .dataframe tbody tr th:only-of-type {\n",
              "        vertical-align: middle;\n",
              "    }\n",
              "\n",
              "    .dataframe tbody tr th {\n",
              "        vertical-align: top;\n",
              "    }\n",
              "\n",
              "    .dataframe thead th {\n",
              "        text-align: right;\n",
              "    }\n",
              "</style>\n",
              "<table border=\"1\" class=\"dataframe\">\n",
              "  <thead>\n",
              "    <tr style=\"text-align: right;\">\n",
              "      <th></th>\n",
              "      <th>MenteeID</th>\n",
              "      <th>TutorID</th>\n",
              "      <th>Subjects</th>\n",
              "      <th>Rating</th>\n",
              "    </tr>\n",
              "  </thead>\n",
              "  <tbody>\n",
              "    <tr>\n",
              "      <th>8425</th>\n",
              "      <td>B34255</td>\n",
              "      <td>A70862</td>\n",
              "      <td>Kimia</td>\n",
              "      <td>5</td>\n",
              "    </tr>\n",
              "    <tr>\n",
              "      <th>8507</th>\n",
              "      <td>B34255</td>\n",
              "      <td>A61005</td>\n",
              "      <td>Bahasa Inggris</td>\n",
              "      <td>3</td>\n",
              "    </tr>\n",
              "    <tr>\n",
              "      <th>8563</th>\n",
              "      <td>B34255</td>\n",
              "      <td>A20245</td>\n",
              "      <td>Kimia</td>\n",
              "      <td>3</td>\n",
              "    </tr>\n",
              "    <tr>\n",
              "      <th>8615</th>\n",
              "      <td>B34255</td>\n",
              "      <td>A57923</td>\n",
              "      <td>Ekonomi</td>\n",
              "      <td>3</td>\n",
              "    </tr>\n",
              "    <tr>\n",
              "      <th>8859</th>\n",
              "      <td>B34255</td>\n",
              "      <td>A94552</td>\n",
              "      <td>Sejarah</td>\n",
              "      <td>5</td>\n",
              "    </tr>\n",
              "    <tr>\n",
              "      <th>8919</th>\n",
              "      <td>B34255</td>\n",
              "      <td>A12059</td>\n",
              "      <td>Kimia</td>\n",
              "      <td>4</td>\n",
              "    </tr>\n",
              "    <tr>\n",
              "      <th>9123</th>\n",
              "      <td>B34255</td>\n",
              "      <td>A72629</td>\n",
              "      <td>Ekonomi</td>\n",
              "      <td>5</td>\n",
              "    </tr>\n",
              "    <tr>\n",
              "      <th>9204</th>\n",
              "      <td>B34255</td>\n",
              "      <td>A76751</td>\n",
              "      <td>Ekonomi</td>\n",
              "      <td>4</td>\n",
              "    </tr>\n",
              "    <tr>\n",
              "      <th>9377</th>\n",
              "      <td>B34255</td>\n",
              "      <td>A91673</td>\n",
              "      <td>Kimia</td>\n",
              "      <td>5</td>\n",
              "    </tr>\n",
              "  </tbody>\n",
              "</table>\n",
              "</div>\n",
              "      <button class=\"colab-df-convert\" onclick=\"convertToInteractive('df-cd744050-d027-429c-ba19-c025a8f6f7b1')\"\n",
              "              title=\"Convert this dataframe to an interactive table.\"\n",
              "              style=\"display:none;\">\n",
              "        \n",
              "  <svg xmlns=\"http://www.w3.org/2000/svg\" height=\"24px\"viewBox=\"0 0 24 24\"\n",
              "       width=\"24px\">\n",
              "    <path d=\"M0 0h24v24H0V0z\" fill=\"none\"/>\n",
              "    <path d=\"M18.56 5.44l.94 2.06.94-2.06 2.06-.94-2.06-.94-.94-2.06-.94 2.06-2.06.94zm-11 1L8.5 8.5l.94-2.06 2.06-.94-2.06-.94L8.5 2.5l-.94 2.06-2.06.94zm10 10l.94 2.06.94-2.06 2.06-.94-2.06-.94-.94-2.06-.94 2.06-2.06.94z\"/><path d=\"M17.41 7.96l-1.37-1.37c-.4-.4-.92-.59-1.43-.59-.52 0-1.04.2-1.43.59L10.3 9.45l-7.72 7.72c-.78.78-.78 2.05 0 2.83L4 21.41c.39.39.9.59 1.41.59.51 0 1.02-.2 1.41-.59l7.78-7.78 2.81-2.81c.8-.78.8-2.07 0-2.86zM5.41 20L4 18.59l7.72-7.72 1.47 1.35L5.41 20z\"/>\n",
              "  </svg>\n",
              "      </button>\n",
              "      \n",
              "  <style>\n",
              "    .colab-df-container {\n",
              "      display:flex;\n",
              "      flex-wrap:wrap;\n",
              "      gap: 12px;\n",
              "    }\n",
              "\n",
              "    .colab-df-convert {\n",
              "      background-color: #E8F0FE;\n",
              "      border: none;\n",
              "      border-radius: 50%;\n",
              "      cursor: pointer;\n",
              "      display: none;\n",
              "      fill: #1967D2;\n",
              "      height: 32px;\n",
              "      padding: 0 0 0 0;\n",
              "      width: 32px;\n",
              "    }\n",
              "\n",
              "    .colab-df-convert:hover {\n",
              "      background-color: #E2EBFA;\n",
              "      box-shadow: 0px 1px 2px rgba(60, 64, 67, 0.3), 0px 1px 3px 1px rgba(60, 64, 67, 0.15);\n",
              "      fill: #174EA6;\n",
              "    }\n",
              "\n",
              "    [theme=dark] .colab-df-convert {\n",
              "      background-color: #3B4455;\n",
              "      fill: #D2E3FC;\n",
              "    }\n",
              "\n",
              "    [theme=dark] .colab-df-convert:hover {\n",
              "      background-color: #434B5C;\n",
              "      box-shadow: 0px 1px 3px 1px rgba(0, 0, 0, 0.15);\n",
              "      filter: drop-shadow(0px 1px 2px rgba(0, 0, 0, 0.3));\n",
              "      fill: #FFFFFF;\n",
              "    }\n",
              "  </style>\n",
              "\n",
              "      <script>\n",
              "        const buttonEl =\n",
              "          document.querySelector('#df-cd744050-d027-429c-ba19-c025a8f6f7b1 button.colab-df-convert');\n",
              "        buttonEl.style.display =\n",
              "          google.colab.kernel.accessAllowed ? 'block' : 'none';\n",
              "\n",
              "        async function convertToInteractive(key) {\n",
              "          const element = document.querySelector('#df-cd744050-d027-429c-ba19-c025a8f6f7b1');\n",
              "          const dataTable =\n",
              "            await google.colab.kernel.invokeFunction('convertToInteractive',\n",
              "                                                     [key], {});\n",
              "          if (!dataTable) return;\n",
              "\n",
              "          const docLinkHtml = 'Like what you see? Visit the ' +\n",
              "            '<a target=\"_blank\" href=https://colab.research.google.com/notebooks/data_table.ipynb>data table notebook</a>'\n",
              "            + ' to learn more about interactive tables.';\n",
              "          element.innerHTML = '';\n",
              "          dataTable['output_type'] = 'display_data';\n",
              "          await google.colab.output.renderOutput(dataTable, element);\n",
              "          const docLink = document.createElement('div');\n",
              "          docLink.innerHTML = docLinkHtml;\n",
              "          element.appendChild(docLink);\n",
              "        }\n",
              "      </script>\n",
              "    </div>\n",
              "  </div>\n",
              "  "
            ]
          },
          "metadata": {},
          "execution_count": 248
        }
      ]
    },
    {
      "cell_type": "code",
      "source": [
        "popular_tutor_rating.loc[popular_tutor_rating['TutorID']=='A28116']"
      ],
      "metadata": {
        "id": "BbefIfyh5gb5",
        "colab": {
          "base_uri": "https://localhost:8080/",
          "height": 718
        },
        "outputId": "6b0c20fb-32b9-4302-ccc8-996058525849"
      },
      "execution_count": null,
      "outputs": [
        {
          "output_type": "execute_result",
          "data": {
            "text/plain": [
              "      MenteeID TutorID Subjects  Rating\n",
              "11871   B70293  A28116   Fisika       3\n",
              "11872   B93232  A28116   Fisika       5\n",
              "11873   B18208  A28116   Fisika       5\n",
              "11874   B57152  A28116   Fisika       3\n",
              "11875   B51049  A28116   Fisika       4\n",
              "11876   B76136  A28116   Fisika       3\n",
              "11877   B97242  A28116   Fisika       3\n",
              "11878   B81633  A28116   Fisika       5\n",
              "11879   B68871  A28116   Fisika       4\n",
              "11880   B57577  A28116   Fisika       3\n",
              "11881   B30660  A28116   Fisika       4\n",
              "11882   B53566  A28116   Fisika       5\n",
              "11883   B88621  A28116   Fisika       2\n",
              "11884   B93271  A28116   Fisika       5\n",
              "11885   B77738  A28116   Fisika       3\n",
              "11886   B82005  A28116   Fisika       4\n",
              "11887   B95060  A28116   Fisika       5\n",
              "11888   B40549  A28116   Fisika       3\n",
              "11889   B30079  A28116   Fisika       4\n",
              "11890   B17674  A28116   Fisika       3\n",
              "11891   B55984  A28116   Fisika       3\n",
              "11892   B78141  A28116   Fisika       5"
            ],
            "text/html": [
              "\n",
              "  <div id=\"df-ad36e8a0-1a4e-4668-9638-fbdd78847ce0\">\n",
              "    <div class=\"colab-df-container\">\n",
              "      <div>\n",
              "<style scoped>\n",
              "    .dataframe tbody tr th:only-of-type {\n",
              "        vertical-align: middle;\n",
              "    }\n",
              "\n",
              "    .dataframe tbody tr th {\n",
              "        vertical-align: top;\n",
              "    }\n",
              "\n",
              "    .dataframe thead th {\n",
              "        text-align: right;\n",
              "    }\n",
              "</style>\n",
              "<table border=\"1\" class=\"dataframe\">\n",
              "  <thead>\n",
              "    <tr style=\"text-align: right;\">\n",
              "      <th></th>\n",
              "      <th>MenteeID</th>\n",
              "      <th>TutorID</th>\n",
              "      <th>Subjects</th>\n",
              "      <th>Rating</th>\n",
              "    </tr>\n",
              "  </thead>\n",
              "  <tbody>\n",
              "    <tr>\n",
              "      <th>11871</th>\n",
              "      <td>B70293</td>\n",
              "      <td>A28116</td>\n",
              "      <td>Fisika</td>\n",
              "      <td>3</td>\n",
              "    </tr>\n",
              "    <tr>\n",
              "      <th>11872</th>\n",
              "      <td>B93232</td>\n",
              "      <td>A28116</td>\n",
              "      <td>Fisika</td>\n",
              "      <td>5</td>\n",
              "    </tr>\n",
              "    <tr>\n",
              "      <th>11873</th>\n",
              "      <td>B18208</td>\n",
              "      <td>A28116</td>\n",
              "      <td>Fisika</td>\n",
              "      <td>5</td>\n",
              "    </tr>\n",
              "    <tr>\n",
              "      <th>11874</th>\n",
              "      <td>B57152</td>\n",
              "      <td>A28116</td>\n",
              "      <td>Fisika</td>\n",
              "      <td>3</td>\n",
              "    </tr>\n",
              "    <tr>\n",
              "      <th>11875</th>\n",
              "      <td>B51049</td>\n",
              "      <td>A28116</td>\n",
              "      <td>Fisika</td>\n",
              "      <td>4</td>\n",
              "    </tr>\n",
              "    <tr>\n",
              "      <th>11876</th>\n",
              "      <td>B76136</td>\n",
              "      <td>A28116</td>\n",
              "      <td>Fisika</td>\n",
              "      <td>3</td>\n",
              "    </tr>\n",
              "    <tr>\n",
              "      <th>11877</th>\n",
              "      <td>B97242</td>\n",
              "      <td>A28116</td>\n",
              "      <td>Fisika</td>\n",
              "      <td>3</td>\n",
              "    </tr>\n",
              "    <tr>\n",
              "      <th>11878</th>\n",
              "      <td>B81633</td>\n",
              "      <td>A28116</td>\n",
              "      <td>Fisika</td>\n",
              "      <td>5</td>\n",
              "    </tr>\n",
              "    <tr>\n",
              "      <th>11879</th>\n",
              "      <td>B68871</td>\n",
              "      <td>A28116</td>\n",
              "      <td>Fisika</td>\n",
              "      <td>4</td>\n",
              "    </tr>\n",
              "    <tr>\n",
              "      <th>11880</th>\n",
              "      <td>B57577</td>\n",
              "      <td>A28116</td>\n",
              "      <td>Fisika</td>\n",
              "      <td>3</td>\n",
              "    </tr>\n",
              "    <tr>\n",
              "      <th>11881</th>\n",
              "      <td>B30660</td>\n",
              "      <td>A28116</td>\n",
              "      <td>Fisika</td>\n",
              "      <td>4</td>\n",
              "    </tr>\n",
              "    <tr>\n",
              "      <th>11882</th>\n",
              "      <td>B53566</td>\n",
              "      <td>A28116</td>\n",
              "      <td>Fisika</td>\n",
              "      <td>5</td>\n",
              "    </tr>\n",
              "    <tr>\n",
              "      <th>11883</th>\n",
              "      <td>B88621</td>\n",
              "      <td>A28116</td>\n",
              "      <td>Fisika</td>\n",
              "      <td>2</td>\n",
              "    </tr>\n",
              "    <tr>\n",
              "      <th>11884</th>\n",
              "      <td>B93271</td>\n",
              "      <td>A28116</td>\n",
              "      <td>Fisika</td>\n",
              "      <td>5</td>\n",
              "    </tr>\n",
              "    <tr>\n",
              "      <th>11885</th>\n",
              "      <td>B77738</td>\n",
              "      <td>A28116</td>\n",
              "      <td>Fisika</td>\n",
              "      <td>3</td>\n",
              "    </tr>\n",
              "    <tr>\n",
              "      <th>11886</th>\n",
              "      <td>B82005</td>\n",
              "      <td>A28116</td>\n",
              "      <td>Fisika</td>\n",
              "      <td>4</td>\n",
              "    </tr>\n",
              "    <tr>\n",
              "      <th>11887</th>\n",
              "      <td>B95060</td>\n",
              "      <td>A28116</td>\n",
              "      <td>Fisika</td>\n",
              "      <td>5</td>\n",
              "    </tr>\n",
              "    <tr>\n",
              "      <th>11888</th>\n",
              "      <td>B40549</td>\n",
              "      <td>A28116</td>\n",
              "      <td>Fisika</td>\n",
              "      <td>3</td>\n",
              "    </tr>\n",
              "    <tr>\n",
              "      <th>11889</th>\n",
              "      <td>B30079</td>\n",
              "      <td>A28116</td>\n",
              "      <td>Fisika</td>\n",
              "      <td>4</td>\n",
              "    </tr>\n",
              "    <tr>\n",
              "      <th>11890</th>\n",
              "      <td>B17674</td>\n",
              "      <td>A28116</td>\n",
              "      <td>Fisika</td>\n",
              "      <td>3</td>\n",
              "    </tr>\n",
              "    <tr>\n",
              "      <th>11891</th>\n",
              "      <td>B55984</td>\n",
              "      <td>A28116</td>\n",
              "      <td>Fisika</td>\n",
              "      <td>3</td>\n",
              "    </tr>\n",
              "    <tr>\n",
              "      <th>11892</th>\n",
              "      <td>B78141</td>\n",
              "      <td>A28116</td>\n",
              "      <td>Fisika</td>\n",
              "      <td>5</td>\n",
              "    </tr>\n",
              "  </tbody>\n",
              "</table>\n",
              "</div>\n",
              "      <button class=\"colab-df-convert\" onclick=\"convertToInteractive('df-ad36e8a0-1a4e-4668-9638-fbdd78847ce0')\"\n",
              "              title=\"Convert this dataframe to an interactive table.\"\n",
              "              style=\"display:none;\">\n",
              "        \n",
              "  <svg xmlns=\"http://www.w3.org/2000/svg\" height=\"24px\"viewBox=\"0 0 24 24\"\n",
              "       width=\"24px\">\n",
              "    <path d=\"M0 0h24v24H0V0z\" fill=\"none\"/>\n",
              "    <path d=\"M18.56 5.44l.94 2.06.94-2.06 2.06-.94-2.06-.94-.94-2.06-.94 2.06-2.06.94zm-11 1L8.5 8.5l.94-2.06 2.06-.94-2.06-.94L8.5 2.5l-.94 2.06-2.06.94zm10 10l.94 2.06.94-2.06 2.06-.94-2.06-.94-.94-2.06-.94 2.06-2.06.94z\"/><path d=\"M17.41 7.96l-1.37-1.37c-.4-.4-.92-.59-1.43-.59-.52 0-1.04.2-1.43.59L10.3 9.45l-7.72 7.72c-.78.78-.78 2.05 0 2.83L4 21.41c.39.39.9.59 1.41.59.51 0 1.02-.2 1.41-.59l7.78-7.78 2.81-2.81c.8-.78.8-2.07 0-2.86zM5.41 20L4 18.59l7.72-7.72 1.47 1.35L5.41 20z\"/>\n",
              "  </svg>\n",
              "      </button>\n",
              "      \n",
              "  <style>\n",
              "    .colab-df-container {\n",
              "      display:flex;\n",
              "      flex-wrap:wrap;\n",
              "      gap: 12px;\n",
              "    }\n",
              "\n",
              "    .colab-df-convert {\n",
              "      background-color: #E8F0FE;\n",
              "      border: none;\n",
              "      border-radius: 50%;\n",
              "      cursor: pointer;\n",
              "      display: none;\n",
              "      fill: #1967D2;\n",
              "      height: 32px;\n",
              "      padding: 0 0 0 0;\n",
              "      width: 32px;\n",
              "    }\n",
              "\n",
              "    .colab-df-convert:hover {\n",
              "      background-color: #E2EBFA;\n",
              "      box-shadow: 0px 1px 2px rgba(60, 64, 67, 0.3), 0px 1px 3px 1px rgba(60, 64, 67, 0.15);\n",
              "      fill: #174EA6;\n",
              "    }\n",
              "\n",
              "    [theme=dark] .colab-df-convert {\n",
              "      background-color: #3B4455;\n",
              "      fill: #D2E3FC;\n",
              "    }\n",
              "\n",
              "    [theme=dark] .colab-df-convert:hover {\n",
              "      background-color: #434B5C;\n",
              "      box-shadow: 0px 1px 3px 1px rgba(0, 0, 0, 0.15);\n",
              "      filter: drop-shadow(0px 1px 2px rgba(0, 0, 0, 0.3));\n",
              "      fill: #FFFFFF;\n",
              "    }\n",
              "  </style>\n",
              "\n",
              "      <script>\n",
              "        const buttonEl =\n",
              "          document.querySelector('#df-ad36e8a0-1a4e-4668-9638-fbdd78847ce0 button.colab-df-convert');\n",
              "        buttonEl.style.display =\n",
              "          google.colab.kernel.accessAllowed ? 'block' : 'none';\n",
              "\n",
              "        async function convertToInteractive(key) {\n",
              "          const element = document.querySelector('#df-ad36e8a0-1a4e-4668-9638-fbdd78847ce0');\n",
              "          const dataTable =\n",
              "            await google.colab.kernel.invokeFunction('convertToInteractive',\n",
              "                                                     [key], {});\n",
              "          if (!dataTable) return;\n",
              "\n",
              "          const docLinkHtml = 'Like what you see? Visit the ' +\n",
              "            '<a target=\"_blank\" href=https://colab.research.google.com/notebooks/data_table.ipynb>data table notebook</a>'\n",
              "            + ' to learn more about interactive tables.';\n",
              "          element.innerHTML = '';\n",
              "          dataTable['output_type'] = 'display_data';\n",
              "          await google.colab.output.renderOutput(dataTable, element);\n",
              "          const docLink = document.createElement('div');\n",
              "          docLink.innerHTML = docLinkHtml;\n",
              "          element.appendChild(docLink);\n",
              "        }\n",
              "      </script>\n",
              "    </div>\n",
              "  </div>\n",
              "  "
            ]
          },
          "metadata": {},
          "execution_count": 257
        }
      ]
    },
    {
      "cell_type": "markdown",
      "source": [
        "#TF LITE DEPLOY"
      ],
      "metadata": {
        "id": "ceaIwahGNLaZ"
      }
    },
    {
      "cell_type": "code",
      "source": [
        "# Load the saved model\n",
        "model = tf.saved_model.load('collaborative_filtering_model')\n",
        "\n",
        "# Convert the model to TensorFlow Lite format\n",
        "converter = tf.lite.TFLiteConverter.from_saved_model('collaborative_filtering_model')\n",
        "tflite_model = converter.convert()\n",
        "\n",
        "# Save the TFLite model\n",
        "with open('CF_Model.tflite', 'wb') as f:\n",
        "    f.write(tflite_model)"
      ],
      "metadata": {
        "id": "BpufPcYyNOUJ"
      },
      "execution_count": null,
      "outputs": []
    }
  ],
  "metadata": {
    "accelerator": "GPU",
    "colab": {
      "provenance": []
    },
    "kernelspec": {
      "display_name": "Python 3",
      "name": "python3"
    },
    "language_info": {
      "name": "python"
    }
  },
  "nbformat": 4,
  "nbformat_minor": 0
}